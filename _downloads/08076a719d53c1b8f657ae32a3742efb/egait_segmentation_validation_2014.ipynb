{
  "cells": [
    {
      "cell_type": "code",
      "execution_count": null,
      "metadata": {
        "collapsed": false
      },
      "outputs": [],
      "source": [
        "%matplotlib inline"
      ]
    },
    {
      "cell_type": "markdown",
      "metadata": {},
      "source": [
        "\n# EgaitSegmentationValidation2014 - A Stride Segmentation validation dataset\n\nThe EgaitSegmentationValidation2014 dataset allows access to the stride segmentation validation dataset recorded for\nthe EGait system.\nIt contains multiple 4x10 m walks and simulated \"free-living\" walks recorded by two foot worn IMU sensors.\n\nTwo sets of reference stride borders are provided for the dataset:\n\n1. The orignal stride borders from the original publication. These stride borders were labeled manually by multiple\ngait experts looking at the raw IMU signal and a video of the participant.\nThe gait experts specifically only labeled full straight strides\n2. Updated stride borders, which contain the original stride borders and additionally contain stride borders for all\nturn and stair strides in the dataset.\nThese new annotations where only performed on the raw data.\n\n## General information\nThe dataset was recorded with Shimmer 2R sensors.\nIn these IMU nodes, the coordinate systems of the accelerometer and the gyroscope are different.\n\nIn the version provided in this dataset, we fix this by transforming the gyroscope data to the accelerometer coordinate\nsystem and then transform the combined data to the coordinate system of the gaitmap coordinate system.\n\n.. figure:: /images/coordinate_systems/coordinate_transform_shimmer2R_lateral_eGait.svg\n    :alt: coordinate system definition\n    :figclass: align-center\n\n<div class=\"alert alert-danger\"><h4>Warning</h4><p>The calibration files distributed with the dataset are likely of low quality.\n             We recommend to only use this dataset for validation of stride segmentation algorithms.\n             Algorithms for spatial parameters that depend on the exact values of the IMU, might not provide good\n             results with this dataset.</p></div>\n"
      ]
    },
    {
      "cell_type": "markdown",
      "metadata": {},
      "source": [
        "<div class=\"alert alert-danger\"><h4>Warning</h4><p>For this example to work, you need to have a global config set containing the path to the dataset.\n             Check the `README.md` for more information.</p></div>\n\n"
      ]
    },
    {
      "cell_type": "code",
      "execution_count": null,
      "metadata": {
        "collapsed": false
      },
      "outputs": [],
      "source": [
        "from gaitmap_datasets import EgaitSegmentationValidation2014"
      ]
    },
    {
      "cell_type": "markdown",
      "metadata": {},
      "source": [
        "First we will create a simple instance of the dataset class.\n\n"
      ]
    },
    {
      "cell_type": "code",
      "execution_count": null,
      "metadata": {
        "collapsed": false
      },
      "outputs": [],
      "source": [
        "dataset = EgaitSegmentationValidation2014()\ndataset"
      ]
    },
    {
      "cell_type": "markdown",
      "metadata": {},
      "source": [
        "Based on the index you can select either a specific cohort or test, or a specific participant.\n\n"
      ]
    },
    {
      "cell_type": "code",
      "execution_count": null,
      "metadata": {
        "collapsed": false
      },
      "outputs": [],
      "source": [
        "only_free_walk = dataset.get_subset(test=\"free_walk\")\nonly_free_walk"
      ]
    },
    {
      "cell_type": "markdown",
      "metadata": {},
      "source": [
        "We will investigate the data for a single participant in the following for both types of tests\n\n"
      ]
    },
    {
      "cell_type": "code",
      "execution_count": null,
      "metadata": {
        "collapsed": false
      },
      "outputs": [],
      "source": [
        "free_walk = only_free_walk.get_subset(participant=\"GA214030\")\nfree_walk"
      ]
    },
    {
      "cell_type": "markdown",
      "metadata": {},
      "source": [
        "## Free-walk\nDuring the free-walk tests participants were asked to perform a series of activities.\nThis mostly consisted of walking around a room and up and down stairs.\nWe will plot the data together with the stride labels.\nWe can see that multiple strides were labeled over the 4-min period of the measurement.\nThe only exception is a small signal region in the center\n\n"
      ]
    },
    {
      "cell_type": "code",
      "execution_count": null,
      "metadata": {
        "collapsed": false
      },
      "outputs": [],
      "source": [
        "import matplotlib.pyplot as plt\n\n\ndef plot_strides(imu_data, segmented_stride_list):\n    fig, axs = plt.subplots(2, 1, sharex=True)\n    foot = \"right_sensor\"\n    imu_data[foot].filter(like=\"acc\").plot(ax=axs[0])\n    imu_data[foot].filter(like=\"gyr\").plot(ax=axs[1])\n\n    for i, s in segmented_stride_list[foot].iterrows():\n        s /= free_walk.sampling_rate_hz\n        for ax in axs:\n            ax.axvline(s[\"start\"], color=\"k\", linestyle=\"--\")\n            ax.axvline(s[\"end\"], color=\"k\", linestyle=\"--\")\n    return fig\n\n\nimu_data = free_walk.data\nsegmented_stride_list_original = free_walk.segmented_stride_list_original_\nsegmented_stride_list = free_walk.segmented_stride_list_"
      ]
    },
    {
      "cell_type": "markdown",
      "metadata": {},
      "source": [
        "If we plot the original stride list (the one without stair strides labeled), we can see that there is a section in\nthe middle without any labels\n\n"
      ]
    },
    {
      "cell_type": "code",
      "execution_count": null,
      "metadata": {
        "collapsed": false
      },
      "outputs": [],
      "source": [
        "fig = plot_strides(imu_data, segmented_stride_list_original)\nfig.title = \"Original stride list\"\nfig.show()"
      ]
    },
    {
      "cell_type": "markdown",
      "metadata": {},
      "source": [
        "If we zoom into this region, we can see that the signal looks \"gait-like\".\nHowever, this corresponds to stair walking, which was explicitly **not** labeled as a stride by the authors of the\ndataset, as they wanted to show that the algorithms they developed could differentiate between stair walking and\nlevel walking.\nFurther, all turning strides are **not** labeled when using the original stride list (\n`segmented_stride_list_original_`.\n\n"
      ]
    },
    {
      "cell_type": "code",
      "execution_count": null,
      "metadata": {
        "collapsed": false
      },
      "outputs": [],
      "source": [
        "fig = plot_strides(imu_data, segmented_stride_list_original)\nfig.axes[0].set_xlim(145, 165)\nfig.show()"
      ]
    },
    {
      "cell_type": "markdown",
      "metadata": {},
      "source": [
        "The new relabeled stride list (`segmented_stride_list_`) contains all strides, including the stair and turning\nstrides.\nIf we plot this stride list, we can see that the signal region in the middle is now labeled as strides.\n\n"
      ]
    },
    {
      "cell_type": "code",
      "execution_count": null,
      "metadata": {
        "collapsed": false
      },
      "outputs": [],
      "source": [
        "fig = plot_strides(imu_data, segmented_stride_list)\nfig.title = \"New stride list\"\nfig.show()"
      ]
    },
    {
      "cell_type": "markdown",
      "metadata": {},
      "source": [
        "## 4x10 m walk\n\n"
      ]
    },
    {
      "cell_type": "code",
      "execution_count": null,
      "metadata": {
        "collapsed": false
      },
      "outputs": [],
      "source": [
        "only_gait_test = dataset.get_subset(test=\"4x10m\")\ngait_test = only_gait_test.get_subset(participant=\"GA112030E3\")\ngait_test"
      ]
    },
    {
      "cell_type": "markdown",
      "metadata": {},
      "source": [
        "We will plot the data together with the manually labeled strides.\nWe can clearly see the 4 straight walks during the test.\n\nLike before, if we use the original stride list, the turning strides in between the bouts are not labeled.\n\n"
      ]
    },
    {
      "cell_type": "code",
      "execution_count": null,
      "metadata": {
        "collapsed": false
      },
      "outputs": [],
      "source": [
        "imu_data = gait_test.data\nsegmented_stride_list_original = gait_test.segmented_stride_list_original_\nsegmented_stride_list = gait_test.segmented_stride_list_\n\nfig = plot_strides(imu_data, segmented_stride_list_original)\nfig.title = \"Original stride list\"\nfig.show()"
      ]
    },
    {
      "cell_type": "markdown",
      "metadata": {},
      "source": [
        "If we use the new stride list, we can see that the turning strides are now labeled.\n\n"
      ]
    },
    {
      "cell_type": "code",
      "execution_count": null,
      "metadata": {
        "collapsed": false
      },
      "outputs": [],
      "source": [
        "fig = plot_strides(imu_data, segmented_stride_list)\nfig.title = \"New stride list\"\nfig.show()"
      ]
    },
    {
      "cell_type": "markdown",
      "metadata": {},
      "source": [
        "## Stride List Recommendation\nWhile in many cases we are only interested in analyzing straight strides, we recommend to use the new stride list\nwhen validation stride segmentation algorithms.\nIt is usually better to have a segmentation algorithm with high sensitivity that is able to identify all\nstride-like signal portions and then filter out unwanted stride types in later processing steps.\nFor this reason, we made the new stride list the default stride list in the dataset.\n\n"
      ]
    }
  ],
  "metadata": {
    "kernelspec": {
      "display_name": "Python 3",
      "language": "python",
      "name": "python3"
    },
    "language_info": {
      "codemirror_mode": {
        "name": "ipython",
        "version": 3
      },
      "file_extension": ".py",
      "mimetype": "text/x-python",
      "name": "python",
      "nbconvert_exporter": "python",
      "pygments_lexer": "ipython3",
      "version": "3.8.16"
    }
  },
  "nbformat": 4,
  "nbformat_minor": 0
}