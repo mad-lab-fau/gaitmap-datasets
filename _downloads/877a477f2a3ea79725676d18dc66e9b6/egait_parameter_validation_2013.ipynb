{
  "cells": [
    {
      "cell_type": "code",
      "execution_count": null,
      "metadata": {
        "collapsed": false
      },
      "outputs": [],
      "source": [
        "%matplotlib inline"
      ]
    },
    {
      "cell_type": "markdown",
      "metadata": {},
      "source": [
        "\n# EgaitParameterValidation2013 - A Stride Parameter validation dataset\n\nThe EgaitParameterValidation2013 dataset allows access to the parameter validation dataset recorded for the EGait\nsystem.\nIt contains multiple short walks recorded by two foot worn IMU sensors and a GaitRite carpet as reference.\nUnfortunately, the Gaitrite and the IMU sensors are not synchronized.\nTo solve this, the IMU-data was cut to the strides that are expected to be on the GaitRite carpet by counting the number\nof strides performed in both systems (see original publication for more info).\n\n## General information\nThe dataset was recorded with Shimmer 2R sensors.\nIn these IMU nodes, the coordinate systems of the accelerometer and the gyroscope are different.\n\nIn the version provided in this dataset, we fix this by transforming the gyroscope data to the accelerometer coordinate\nsystem and then transform the combined data to the coordinate system of the gaitmap coordinate system.\n\n.. figure:: /images/coordinate_systems/coordinate_transform_shimmer2R_lateral_eGait.svg\n    :alt: coordinate system definition\n    :figclass: align-center\n\n<div class=\"alert alert-info\"><h4>Note</h4><p>In the instructions provided with the dataset, the conversation of the gyroscope data is not mentioned,\n          but was handled by the authors as part of their data processing pipeline.</p></div>\n\n\nIn the following we will show how to interact with the dataset and how to make sense of the reference information.\n"
      ]
    },
    {
      "cell_type": "markdown",
      "metadata": {},
      "source": [
        "<div class=\"alert alert-danger\"><h4>Warning</h4><p>For this example to work, you need to have a global config set containing the path to the dataset.\n             Check the `README.md` for more information.</p></div>\n\n"
      ]
    },
    {
      "cell_type": "code",
      "execution_count": null,
      "metadata": {
        "collapsed": false
      },
      "outputs": [],
      "source": [
        "import pandas as pd\n\nfrom gaitmap_datasets import EgaitParameterValidation2013"
      ]
    },
    {
      "cell_type": "markdown",
      "metadata": {},
      "source": [
        "First we will create a simple instance of the dataset class.\nWe can see that it contains a single recording per participant for 101 participants.\n\n"
      ]
    },
    {
      "cell_type": "code",
      "execution_count": null,
      "metadata": {
        "collapsed": false
      },
      "outputs": [],
      "source": [
        "dataset = EgaitParameterValidation2013()\ndataset"
      ]
    },
    {
      "cell_type": "markdown",
      "metadata": {},
      "source": [
        "For this example, we will select the data of a single participant.\n\n"
      ]
    },
    {
      "cell_type": "code",
      "execution_count": null,
      "metadata": {
        "collapsed": false
      },
      "outputs": [],
      "source": [
        "subset = dataset.get_subset(participant=\"P115\")\nsubset"
      ]
    },
    {
      "cell_type": "markdown",
      "metadata": {},
      "source": [
        "And simply plot the gait data and the manually labeled stride borders.\n\n"
      ]
    },
    {
      "cell_type": "code",
      "execution_count": null,
      "metadata": {
        "collapsed": false
      },
      "outputs": [],
      "source": [
        "import matplotlib.pyplot as plt\n\nimu_data = subset.data\nsegmented_stride_list = subset.segmented_stride_list_\n\n_, axs = plt.subplots(2, 1)\nfoot = \"right_sensor\"\nimu_data[foot].filter(like=\"acc\").plot(ax=axs[0])\nimu_data[foot].filter(like=\"gyr\").plot(ax=axs[1])\n\nfor i, s in segmented_stride_list[foot].iterrows():\n    s /= subset.sampling_rate_hz\n    axs[0].axvline(s[\"start\"], color=\"k\", linestyle=\"--\")\n    axs[0].axvline(s[\"end\"], color=\"k\", linestyle=\"--\")\n    axs[1].axvline(s[\"start\"], color=\"k\", linestyle=\"--\")\n    axs[1].axvline(s[\"end\"], color=\"k\", linestyle=\"--\")\n\nplt.show()"
      ]
    },
    {
      "cell_type": "markdown",
      "metadata": {},
      "source": [
        "We can see that the IMU data is cut right in the middle of the movement to only contain the strides that were also\ndetected by the GaitRite system.\nHowever, the GaitRite system defines strides from initial contact (IC) to initial contact (IC), while the manual\nstride annotations define the strides from a maximum in the gyro-signal to the next (see image above).\n\nThis means that even-though the signal should contain the same strides as the reference, they don't line up.\nWhen we compare the number of manual strides with the number of parameterized strides, we can see that there is always\none stride less in the parameterized data.\n\n"
      ]
    },
    {
      "cell_type": "code",
      "execution_count": null,
      "metadata": {
        "collapsed": false
      },
      "outputs": [],
      "source": [
        "parameters = subset.gaitrite_parameters_\nparameters"
      ]
    },
    {
      "cell_type": "code",
      "execution_count": null,
      "metadata": {
        "collapsed": false
      },
      "outputs": [],
      "source": [
        "parameters[\"left_sensor\"].shape"
      ]
    },
    {
      "cell_type": "code",
      "execution_count": null,
      "metadata": {
        "collapsed": false
      },
      "outputs": [],
      "source": [
        "segmented_stride_list[\"left_sensor\"].shape"
      ]
    },
    {
      "cell_type": "markdown",
      "metadata": {},
      "source": [
        "This is caused by the different stride definitions, as explained above.\n\nTo align them, we need to first detect relevant stride events (i.e. at least the IC) from the IMU signal.\nWe should ensure that exactly one IC is detected per segmented stride.\nThen we can use this information to create a new stride list (from one IC to the next), that should align with the\nparameterized strides from the GaitRite system.\n\nAs this library includes no method to detect ICs, we will mock this to demonstrate the approach.\nWe simply assume that the IC is always in the center of segmented stride.\n\n"
      ]
    },
    {
      "cell_type": "code",
      "execution_count": null,
      "metadata": {
        "collapsed": false
      },
      "outputs": [],
      "source": [
        "foot = \"left_sensor\"\n\nmock_gait_events = segmented_stride_list[foot].copy()\nmock_gait_events[\"ic\"] = mock_gait_events[\"start\"] + (mock_gait_events[\"end\"] - mock_gait_events[\"start\"]) // 2"
      ]
    },
    {
      "cell_type": "markdown",
      "metadata": {},
      "source": [
        "Let's plot the mock gait events.\n\n"
      ]
    },
    {
      "cell_type": "code",
      "execution_count": null,
      "metadata": {
        "collapsed": false
      },
      "outputs": [],
      "source": [
        "_, ax = plt.subplots(1, 1)\nimu_data[foot].filter(like=\"gyr\").plot(ax=ax)\n\nfor i, s in segmented_stride_list[foot].iterrows():\n    s /= subset.sampling_rate_hz\n    ax.axvline(s[\"start\"], color=\"k\", linestyle=\"--\")\n    ax.axvline(s[\"end\"], color=\"k\", linestyle=\"--\")\n\nics = mock_gait_events[\"ic\"] / subset.sampling_rate_hz\nimu_data[foot][\"gyr_y\"].loc[ics].plot(ax=ax, color=\"r\", style=\"s\", label=\"mock-ICs\")\nax.legend()\nplt.show()"
      ]
    },
    {
      "cell_type": "markdown",
      "metadata": {},
      "source": [
        "Using these mock ICs, we can create a new stride list where each stride starts and ends at the \"detected\" ICs.\n\n"
      ]
    },
    {
      "cell_type": "code",
      "execution_count": null,
      "metadata": {
        "collapsed": false
      },
      "outputs": [],
      "source": [
        "new_stride_list = mock_gait_events[[\"ic\"]].copy()\nnew_stride_list[\"start\"] = new_stride_list[\"ic\"]\nnew_stride_list[\"end\"] = new_stride_list[\"ic\"].shift(-1)\nnew_stride_list = new_stride_list.dropna().astype(int)\nnew_stride_list"
      ]
    },
    {
      "cell_type": "code",
      "execution_count": null,
      "metadata": {
        "collapsed": false
      },
      "outputs": [],
      "source": [
        "_, ax = plt.subplots(1, 1)\nimu_data[foot].filter(like=\"gyr\").plot(ax=ax)\n\nfor i, s in new_stride_list.iterrows():\n    s /= subset.sampling_rate_hz\n    ax.axvline(s[\"start\"], color=\"r\", linestyle=\"--\")\n    ax.axvline(s[\"end\"], color=\"r\", linestyle=\"--\")\n\nics = mock_gait_events[\"ic\"] / subset.sampling_rate_hz\nimu_data[foot][\"gyr_y\"].loc[ics].plot(ax=ax, color=\"r\", style=\"s\", label=\"mock-ICs\")\nax.legend()\nplt.show()"
      ]
    },
    {
      "cell_type": "markdown",
      "metadata": {},
      "source": [
        "This new stride list has the same number of strides as the parameterized strides and the strides should roughly\nline up.\nThis means we can use the parameterized strides to evaluate calculated stride parameters.\n\nHere, we will calculate a \"mock\" stride time.\n\n"
      ]
    },
    {
      "cell_type": "code",
      "execution_count": null,
      "metadata": {
        "collapsed": false
      },
      "outputs": [],
      "source": [
        "imu_parameters = pd.DataFrame(\n    {\"stride_time\": (new_stride_list[\"end\"] - new_stride_list[\"start\"]) / subset.sampling_rate_hz},\n    index=new_stride_list.index,\n)\nimu_parameters"
      ]
    },
    {
      "cell_type": "markdown",
      "metadata": {},
      "source": [
        "With that we can calculate the error of our stride parameters against the reference.\n\n"
      ]
    },
    {
      "cell_type": "code",
      "execution_count": null,
      "metadata": {
        "collapsed": false
      },
      "outputs": [],
      "source": [
        "error = (imu_parameters[\"stride_time\"] - parameters[foot][\"stride_time\"]).abs().rename(\"abs. Stride Time Error [s]\")\nerror"
      ]
    },
    {
      "cell_type": "markdown",
      "metadata": {},
      "source": [
        "Similarly to this approach other parameters can be calculated and compared.\nJust keep in mind, that you always need to first detect either ICs (or other gait events) within the segmented\nstrides and then shift the stride definition before comparing the parameters.\n\n"
      ]
    }
  ],
  "metadata": {
    "kernelspec": {
      "display_name": "Python 3",
      "language": "python",
      "name": "python3"
    },
    "language_info": {
      "codemirror_mode": {
        "name": "ipython",
        "version": 3
      },
      "file_extension": ".py",
      "mimetype": "text/x-python",
      "name": "python",
      "nbconvert_exporter": "python",
      "pygments_lexer": "ipython3",
      "version": "3.8.16"
    }
  },
  "nbformat": 4,
  "nbformat_minor": 0
}