{
  "cells": [
    {
      "cell_type": "code",
      "execution_count": null,
      "metadata": {
        "collapsed": false
      },
      "outputs": [],
      "source": [
        "%matplotlib inline"
      ]
    },
    {
      "cell_type": "markdown",
      "metadata": {},
      "source": [
        "\n# Kluge2017 - A dataset for in-lab parameter validation in healthy and PD.\n\nThe Kluge 2017 dataset was recorded to test the validity of spatial-temporal parameters extracted from IMUs and their\ntest-retest reliability.\nThe dataset contains data from healthy participants and participants with Parkinson's disease.\n\n## General information\nEach participant performed 4x10m walk trials at a slow, preferred and fast speed.\nFive of the participants performed the trials twice with two weeks in between.\n\nThe dataset contains IMU data from each foot recorded with the eGait system (sensor lateral attached to the shoe) and\nreference data using a marker-less Simi Motion system.\nGait events were annotated manually based on the camera recordings und multiple points at the foot were tracked using\nthe Simi Motion system.\n\nFor each 10m walk, only the middle 3 m are covered by the Simi Motion system, resulting on avaerage in 2-4 strides per\nwalk-through.\n\nThe eGait system in the dataset used the Shimmer 3 sensors using a sampling rate of 102.4 Hz.\nFor the data loaded using the dataset class, we adjust the coordinate system as shown in the figure below.\nWhile the sensor configuration is identical to other Shimmer 3 datasets, the coordiante system of the exported data\nwas already rotated to align both feets.\nHence, we need to perform a different coordinate transformation than for the other datasets:\n\n.. figure:: /images/coordinate_systems/coordinate_transform_kluge_2017.svg\n    :alt: coordinate system definition\n    :figclass: align-center\n"
      ]
    },
    {
      "cell_type": "markdown",
      "metadata": {},
      "source": [
        "<div class=\"alert alert-danger\"><h4>Warning</h4><p>For this example to work, you need to have a global config set containing the path to the dataset.\n             Check the `README.md` for more information.</p></div>\n\n"
      ]
    },
    {
      "cell_type": "code",
      "execution_count": null,
      "metadata": {
        "collapsed": false
      },
      "outputs": [],
      "source": [
        "from gaitmap_datasets import Kluge2017"
      ]
    },
    {
      "cell_type": "markdown",
      "metadata": {},
      "source": [
        "First we will create a simple instance of the dataset class.\nWe can see that for each participant we have 3 different walking speeds, the information if they are healthy or PD\n(patient = `True`) and if the data was recorded in the first or second session.\n\n"
      ]
    },
    {
      "cell_type": "code",
      "execution_count": null,
      "metadata": {
        "collapsed": false
      },
      "outputs": [],
      "source": [
        "dataset = Kluge2017()\ndataset"
      ]
    },
    {
      "cell_type": "markdown",
      "metadata": {},
      "source": [
        "Based on the index, we will select just the PD cohort\n\n"
      ]
    },
    {
      "cell_type": "code",
      "execution_count": null,
      "metadata": {
        "collapsed": false
      },
      "outputs": [],
      "source": [
        "pd_cohort = dataset.get_subset(patient=True)\npd_cohort"
      ]
    },
    {
      "cell_type": "markdown",
      "metadata": {},
      "source": [
        "We will simply select the first participant in the dataset for the following analysis\n\n"
      ]
    },
    {
      "cell_type": "code",
      "execution_count": null,
      "metadata": {
        "collapsed": false
      },
      "outputs": [],
      "source": [
        "participant = pd_cohort.groupby(\"participant\")[0].groupby(None)\nparticipant"
      ]
    },
    {
      "cell_type": "markdown",
      "metadata": {},
      "source": [
        "Let's have a look at the slow walk data\n\n"
      ]
    },
    {
      "cell_type": "code",
      "execution_count": null,
      "metadata": {
        "collapsed": false
      },
      "outputs": [],
      "source": [
        "slow_walk = participant.get_subset(speed=\"slow\")\nslow_walk"
      ]
    },
    {
      "cell_type": "markdown",
      "metadata": {},
      "source": [
        "For each gait test, we have access to the raw IMU data, the marker position data and the gait events.\nLet's have a look at the raw IMU data.\nThis is a dictionary with the sensor name as key and a pandas DataFrame as value.\nNote that the index is the time in seconds already aligned with the mocap data.\n\n"
      ]
    },
    {
      "cell_type": "code",
      "execution_count": null,
      "metadata": {
        "collapsed": false
      },
      "outputs": [],
      "source": [
        "foot = \"right\"\n\nimu_data = slow_walk.data[f\"{foot}_sensor\"]\nimu_data"
      ]
    },
    {
      "cell_type": "markdown",
      "metadata": {},
      "source": [
        "Then let's also load the marker position data.\nAs all markers trajectories have the same length, this is just a simple pandas DataFrame, with the foot as the\ntop-most column level.\nWe can see that we get position, velocity and acceleration data for the ankle and the tip of the foot.\nNote that these trajectories are from \"actual\" markers, but virtual markers defined by the biomechanical model fitted\nby the SIMI system.\n\nMany values in the dataframe will be NaN, as the mocap system only tracks the foot for a short period of time.\n\n"
      ]
    },
    {
      "cell_type": "code",
      "execution_count": null,
      "metadata": {
        "collapsed": false
      },
      "outputs": [],
      "source": [
        "mocap_data = slow_walk.marker_position_[foot]\nmocap_data"
      ]
    },
    {
      "cell_type": "markdown",
      "metadata": {},
      "source": [
        "Let's plot the position of the foot marker and the IMU data together.\n\n"
      ]
    },
    {
      "cell_type": "code",
      "execution_count": null,
      "metadata": {
        "collapsed": false
      },
      "outputs": [],
      "source": [
        "import matplotlib.pyplot as plt\n\nfig, (ax1, ax2, ax3, ax4, ax5) = plt.subplots(nrows=5, sharex=True, figsize=(10, 10))\nfig.suptitle(f\"{slow_walk.group} - {foot} foot\")\n# Plot the IMU data\nax1.set_title(\"Gyro\")\nax1.set_ylabel(\"deg/s\")\nimu_data.filter(like=\"gyr\").plot(ax=ax1)\nax2.set_title(\"Acc\")\nax2.set_ylabel(\"m/s\u00b2\")\nimu_data.filter(like=\"acc\").plot(ax=ax2)\n\n# Plot the mocap data\nax3.set_title(\"Marker position X\")\nax3.set_ylabel(\"m\")\nmocap_data.xs(\"pos_x\", level=1, axis=1).plot(ax=ax3)\nax4.set_title(\"Marker position Y\")\nax4.set_ylabel(\"m\")\nmocap_data.xs(\"pos_y\", level=1, axis=1).plot(ax=ax4)\nax5.set_title(\"Marker position Z\")\nax5.set_ylabel(\"m\")\nmocap_data.xs(\"pos_z\", level=1, axis=1).plot(ax=ax5)\n\nplt.tight_layout()\nplt.show()"
      ]
    },
    {
      "cell_type": "markdown",
      "metadata": {},
      "source": [
        "We can also plot the gait events on top of the data.\nThe gait events are stored in a dictionary with the foot as key and a pandas DataFrame as value.\nEach row in the DataFrame represents one gait stride.\nEach stride starts and ends with a heel strike/initial contact (IC) of the same foot.\nThe `HS` event provided with the stride is the start event.\nIn addition, we have the toe-off (TO), the heel-off (HO).\nThe terminal contact (TC) is either the TO or the HO depending on which event occurs last.\n\nAll events are provided as samples in the Mocap data.\n\n"
      ]
    },
    {
      "cell_type": "code",
      "execution_count": null,
      "metadata": {
        "collapsed": false
      },
      "outputs": [],
      "source": [
        "gait_events = slow_walk.mocap_events_[foot]\ngait_events"
      ]
    },
    {
      "cell_type": "markdown",
      "metadata": {},
      "source": [
        "Let's plot the gait events on top of the data.\n\n"
      ]
    },
    {
      "cell_type": "code",
      "execution_count": null,
      "metadata": {
        "collapsed": false
      },
      "outputs": [],
      "source": [
        "import matplotlib.pyplot as plt\n\n\ndef plot_with_marker():\n    fig, (ax1, ax2, ax3) = plt.subplots(nrows=3, sharex=True, figsize=(10, 6))\n    fig.suptitle(f\"{slow_walk.group} - {foot} foot\")\n\n    # Plot the IMU data\n    ax1.set_title(\"Gyro\")\n    ax1.set_ylabel(\"deg/s\")\n    imu_data.filter(like=\"gyr\").plot(ax=ax1)\n    ax2.set_title(\"Acc\")\n    ax2.set_ylabel(\"m/s\u00b2\")\n    imu_data.filter(like=\"acc\").plot(ax=ax2)\n\n    # Plot the mocap data\n    ax3.set_title(\"Marker position ankle Z\")\n    ax3.set_ylabel(\"m\")\n    mocap_data[(\"ankle\", \"pos_z\")].plot(ax=ax3)\n\n    # Plot the gait events\n    for i, (_, stride_mocap) in enumerate(gait_events.iterrows()):\n        stride_time = stride_mocap / slow_walk.mocap_sampling_rate_hz_\n        stride_imu = (stride_time * slow_walk.sampling_rate_hz).round().astype(int)\n\n        for ax, plot_data in zip(\n            (ax1, ax2, ax3), (imu_data[\"gyr_y\"], imu_data[\"acc_x\"], mocap_data[(\"ankle\", \"pos_z\")])\n        ):\n            # Plot the stride as a vertical span\n            ax.axvspan(stride_time.start, stride_time.end, alpha=0.2, edgecolor=\"black\")\n\n            index_values = stride_imu\n            if ax == ax3:\n                index_values = stride_mocap\n\n            # Plot the individual events\n            ax.plot(stride_time.to, plot_data.iloc[index_values.to], \"s\", color=\"blue\", label=\"to\" if i == 0 else None)\n            ax.plot(stride_time.ho, plot_data.iloc[index_values.ho], \"o\", color=\"red\", label=\"ho\" if i == 0 else None)\n            ax.plot(stride_time.tc, plot_data.iloc[index_values.tc], \"x\", color=\"green\", label=\"tc\" if i == 0 else None)\n\n    ax3.legend()\n\n    return fig, (ax1, ax2, ax3)\n\n\nplot_with_marker()\nplt.tight_layout()\nplt.show()"
      ]
    },
    {
      "cell_type": "markdown",
      "metadata": {},
      "source": [
        "To better see what is going on, we will zoom into one WB.\n\n"
      ]
    },
    {
      "cell_type": "code",
      "execution_count": null,
      "metadata": {
        "collapsed": false
      },
      "outputs": [],
      "source": [
        "_, (_, _, ax3) = plot_with_marker()\nax3.set_xlim(53, 61)\nplt.show()"
      ]
    },
    {
      "cell_type": "markdown",
      "metadata": {},
      "source": [
        "We can see that all the gait events occur in order and roughly line up with the expected signal regions in the IMU\nsignal.\nWe can also see that the z-axis of the ankle marker is drifting over the course of each walk.\nThis is because the mocap system is not calibrated level to the floor.\nIn case parameters like foot-clearance are calculated, this needs to be taken into account.\n\n"
      ]
    },
    {
      "cell_type": "markdown",
      "metadata": {},
      "source": [
        "## Spatial Parameters\nIn case you want to caluclate spatial parameters based on the trajectories and events, you can use the\n`marker_position_per_stride_` property.\nIt provides the marker information per stride, making it easy to calculate various parameters\n\n"
      ]
    },
    {
      "cell_type": "code",
      "execution_count": null,
      "metadata": {
        "collapsed": false
      },
      "outputs": [],
      "source": [
        "per_stride = slow_walk.marker_position_per_stride_[foot]\nper_stride"
      ]
    },
    {
      "cell_type": "markdown",
      "metadata": {},
      "source": [
        "To extract the information of a single stride (e.g. stride_ist 55), we can use the `loc` method.\n\n"
      ]
    },
    {
      "cell_type": "code",
      "execution_count": null,
      "metadata": {
        "collapsed": false
      },
      "outputs": [],
      "source": [
        "stride_54 = per_stride.loc[54]\nstride_54"
      ]
    },
    {
      "cell_type": "code",
      "execution_count": null,
      "metadata": {
        "collapsed": false
      },
      "outputs": [],
      "source": [
        "fig, ax = plt.subplots()\nstride_54[\"ankle\"].filter(like=\"pos_\").plot(ax=ax)\n\nfig.show()"
      ]
    },
    {
      "cell_type": "markdown",
      "metadata": {},
      "source": [
        "## Further Notes\n1. When applying a train test split on the data, remember that some participants have multiple recordings.\n   Hence, always group by participant before splitting (see tpcp documentation for more details).\n2. When comparing the results of an IMU algorithm to the mocap data, the recommended way is to compare based on\n   aggregated values over the entire gait test, as alignment of individual strides might not always be possible and\n   hide issues, when an algorithm is missing multiple strides.\n   However, keep in mind that the mocap system only covers the middle part of each walk.\n   This means that when comparing aggregated values (in particular measures of variance) using all detected strides in\n   the IMU signal might result in a biased comparison.\n3. When calculating spatial parameters, we recommend the use of the ankle trajectory, as it is the most stable\n   trajectory.\n\n"
      ]
    }
  ],
  "metadata": {
    "kernelspec": {
      "display_name": "Python 3",
      "language": "python",
      "name": "python3"
    },
    "language_info": {
      "codemirror_mode": {
        "name": "ipython",
        "version": 3
      },
      "file_extension": ".py",
      "mimetype": "text/x-python",
      "name": "python",
      "nbconvert_exporter": "python",
      "pygments_lexer": "ipython3",
      "version": "3.8.16"
    }
  },
  "nbformat": 4,
  "nbformat_minor": 0
}